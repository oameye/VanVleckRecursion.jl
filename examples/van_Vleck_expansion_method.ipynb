{
 "cells": [
  {
   "cell_type": "markdown",
   "source": [
    "# Tutorial: Computing n-th Order Van Vleck Degenerate Perturbation Theory"
   ],
   "metadata": {}
  },
  {
   "cell_type": "markdown",
   "source": [
    "This tutorial demonstrates how to compute n-th order corrections using the Van Vleck degenerate perturbation theory method from [Eckardt & Anisimovas (2015)](https://arxiv.org/abs/1502.06477) implemented using the recursive formulas described in [Venkatraman et al. (2022)](https://arxiv.org/abs/2108.02861)."
   ],
   "metadata": {}
  },
  {
   "cell_type": "markdown",
   "source": [
    "The Van Vleck canonical transformation provides a systematic way to derive effective time-independent Hamiltonians for rapidly driven quantum systems. Unlike traditional perturbation theory, this method avoids secular divergences and produces results valid for arbitrarily long times."
   ],
   "metadata": {}
  },
  {
   "cell_type": "markdown",
   "source": [
    "### The Physical Problem"
   ],
   "metadata": {}
  },
  {
   "cell_type": "markdown",
   "source": [
    "Consider a periodically driven quantum system with Hamiltonian:\n",
    "$$\n",
    "H(t) = H₀ + H₁cos(ωt) + H₂cos(2ωt) + ... = H₀ + Σ_k H_k cos(kωt)\n",
    "$$"
   ],
   "metadata": {}
  },
  {
   "cell_type": "markdown",
   "source": [
    "Where:\n",
    "- $H₀$: Static (time-independent) part\n",
    "- $H₁cos(ωt)$: Primary oscillating drive at frequency ω\n",
    "- Higher harmonics can also be included"
   ],
   "metadata": {}
  },
  {
   "cell_type": "markdown",
   "source": [
    "The goal is to find an effective time-independent Hamiltonian $H_\\mathrm{eff}$ that captures the long-time dynamics of the system. To compute this, we will use the Van Vleck perturbation theory approachm, where the zeroth order Hamiltonian is $H₀$ and on compute higher order corrections by computing the commutators of the time-dependent Hamiltonian terms $H_k$ [see [Eckardt & Anisimovas (2015)](https://arxiv.org/abs/1502.06477)]. However, to know the which commutators to compute to which order, one needs to evaluate the recursive formulas described in [Venkatraman et al. (2022)](https://arxiv.org/abs/2108.02861). VanVleckRecursion.jl implements these recursive formulas to compute the n-th order commutator corrections."
   ],
   "metadata": {}
  },
  {
   "cell_type": "markdown",
   "source": [
    "## Using VanVleckRecursion.jl"
   ],
   "metadata": {}
  },
  {
   "cell_type": "markdown",
   "source": [
    "Let's start with the simplest driven system: $H(t) = H₀ + H₁cos(ωt)$"
   ],
   "metadata": {}
  },
  {
   "outputs": [],
   "cell_type": "code",
   "source": [
    "using VanVleckRecursion"
   ],
   "metadata": {},
   "execution_count": 1
  },
  {
   "cell_type": "markdown",
   "source": [
    "Define the Hamiltonian components"
   ],
   "metadata": {}
  },
  {
   "outputs": [
    {
     "output_type": "execute_result",
     "data": {
      "text/plain": "1*0\n1*1"
     },
     "metadata": {},
     "execution_count": 2
    }
   ],
   "cell_type": "code",
   "source": [
    "H = Terms([\n",
    "    Term(rotating=0),    # H₀ (static part)\n",
    "    Term(rotating=1)     # H₁cos(ωt) (oscillating part)\n",
    "])\n",
    "\n",
    "set_hamiltonian!(H)"
   ],
   "metadata": {},
   "execution_count": 2
  },
  {
   "cell_type": "markdown",
   "source": [
    "Now that we have specified the system, we can evaluate the recursion formulas to compute the effective Hamiltonian corrections. The $K(n)$ function computes the n-th order correction based on the defined Hamiltonian terms."
   ],
   "metadata": {}
  },
  {
   "outputs": [
    {
     "output_type": "execute_result",
     "data": {
      "text/plain": "-1//2*[1/1,1]0"
     },
     "metadata": {},
     "execution_count": 3
    }
   ],
   "cell_type": "code",
   "source": [
    "K(1)"
   ],
   "metadata": {},
   "execution_count": 3
  },
  {
   "cell_type": "markdown",
   "source": [
    "The output shows the first-order correction to the effective Hamiltonian. Here, we display the internal represenation of the correction, which includes the commutator terms and their coefficients. The internal represenation has three main components: coefficient, commutator structure, and the Floquet flag.\n",
    " - coefficient: `-1//2` the term has a coefficient of -1/2\n",
    " - commutator structure: `[1/1,1]` we have one commutator (Lie bracket) involving $H_{m_1}$ with itself but conjugate Floquet index `-m_1`. `/1` indicates that we have a Floquet index $m_1$ in the denominator.\n",
    " - Floquet flag: `0` indicates that this term doesn't oscilate."
   ],
   "metadata": {}
  },
  {
   "cell_type": "markdown",
   "source": [
    "We can also display the correction in LaTeX format for better readability:"
   ],
   "metadata": {}
  },
  {
   "outputs": [
    {
     "output_type": "execute_result",
     "data": {
      "text/plain": "L\"$-\\frac{\\{\\!\\!\\{H_{m_1},H_{0 - m_1}\\}\\!\\!\\}}{2m_1(i\\omega)^1}$\"",
      "text/latex": "$-\\frac{\\{\\!\\!\\{H_{m_1},H_{0 - m_1}\\}\\!\\!\\}}{2m_1(i\\omega)^1}$"
     },
     "metadata": {},
     "execution_count": 4
    }
   ],
   "cell_type": "code",
   "source": [
    "latex(K(1))"
   ],
   "metadata": {},
   "execution_count": 4
  },
  {
   "cell_type": "markdown",
   "source": [
    " For notational simplicity, in the following expressions we suppress the summation symbol. When a Fourier index $m_i$ appears in an expression it implies the summation overall valid $m_i \\in \\mathbb{Z}$. The(composite) Fourier index of a Hamiltonian term or that of a commutator (computed by summing the indices of the contained terms) should be non-zero unless it is zero by construction. The choices of $m_i$ violating this constraint are excluded. For example, for second order we have:"
   ],
   "metadata": {}
  },
  {
   "outputs": [
    {
     "name": "stdout",
     "output_type": "stream",
     "text": [
      "K(2) = 1//2*[[1/1,0]/1,1]0\n",
      "1//3*[[1/1,1]/1,1]0\n"
     ]
    },
    {
     "output_type": "execute_result",
     "data": {
      "text/plain": "L\"$+\\frac{\\{\\!\\!\\{\\{\\!\\!\\{H_{m_1},H_0\\}\\!\\!\\},H_{0 - m_1}\\}\\!\\!\\}}{2m_1^2(i\\omega)^2}+\\frac{\\{\\!\\!\\{\\{\\!\\!\\{H_{m_2},H_{m_1 - m_2}\\}\\!\\!\\},H_{0 - m_1}\\}\\!\\!\\}}{3m_1m_2(i\\omega)^2}\\\\ \n$\"",
      "text/latex": "$+\\frac{\\{\\!\\!\\{\\{\\!\\!\\{H_{m_1},H_0\\}\\!\\!\\},H_{0 - m_1}\\}\\!\\!\\}}{2m_1^2(i\\omega)^2}+\\frac{\\{\\!\\!\\{\\{\\!\\!\\{H_{m_2},H_{m_1 - m_2}\\}\\!\\!\\},H_{0 - m_1}\\}\\!\\!\\}}{3m_1m_2(i\\omega)^2}\\\\ \n$"
     },
     "metadata": {},
     "execution_count": 5
    }
   ],
   "cell_type": "code",
   "source": [
    "@show K(2)\n",
    "latex(K(2))"
   ],
   "metadata": {},
   "execution_count": 5
  },
  {
   "cell_type": "markdown",
   "source": [
    "Which with summation symbols looks like:\n",
    "$$\n",
    "\\sum_{m\\neq0} \\left(\n",
    "    \\frac{[\\hat{H}_{-m},[\\hat{H}_0, \\hat{H}_{m}]]}{2(m \\hbar \\omega)^2}\n",
    "    + \\sum_{m^\\prime \\neq 0,m} \\frac{[\\hat{H}_{-m^\\prime},[\\hat{H}_{m^\\prime-m}, \\hat{H}_{m}]]}{3m m^\\prime (\\hbar \\omega)^2}\n",
    "    \\right)\n",
    "$$"
   ],
   "metadata": {}
  },
  {
   "cell_type": "markdown",
   "source": [
    "From third order on it is clear we need this package :)"
   ],
   "metadata": {}
  },
  {
   "outputs": [
    {
     "output_type": "execute_result",
     "data": {
      "text/plain": "\"\\$-\\\\frac{\\\\{\\\\!\\\\!\\\\{\\\\{\\\\!\\\\!\\\\{\\\\{\\\\!\\\\!\\\\{H_{m_1},H_0\\\\}\\\\!\\\\!\\\\},H_0\\\\}\\\\!\\\\!\\\\},H_{0 - m_1}\\\\}\\\\!\\\\!\\\\}}{2m_1^3(i\\\\omega)^3}-\\\\frac{\\\\{\\\\!\\\\!\\\\{\\\\{\\\\!\\\\!\\\\{\\\\{\\\\!\\\\!\\\\{H_{m_2},H_0\\\\}\\\\!\\\\!\\\\},H_{m_1 - m_2}\\\\}\\\\!\\\\!\\\\},H_{0 - m_1}\\\\}\\\\!\\\\!\\\\}}{3m_1m_2^2(i\\\\omega)^3}\\\\\\\\ \\n-\\\\frac{\\\\{\\\\!\\\\!\\\\{\\\\{\\\\!\\\\!\\\\{\\\\{\\\\!\\\\!\\\\{H_{m_2},H_{m_1 - m\"\u001b[93m\u001b[1m ⋯ 422 bytes ⋯ \u001b[22m\u001b[39m\"1^2m_2(i\\\\omega)^3}\\\\\\\\ \\n-\\\\frac{\\\\{\\\\!\\\\!\\\\{\\\\{\\\\!\\\\!\\\\{H_{m_1},H_0\\\\}\\\\!\\\\!\\\\},\\\\{\\\\!\\\\!\\\\{H_{m_2},H_{0 - m_1 - m_2}\\\\}\\\\!\\\\!\\\\}\\\\}\\\\!\\\\!\\\\}}{12m_1^2m_2(i\\\\omega)^3}-\\\\frac{\\\\{\\\\!\\\\!\\\\{\\\\{\\\\!\\\\!\\\\{H_{m_2},H_{m_1 - m_2}\\\\}\\\\!\\\\!\\\\},\\\\{\\\\!\\\\!\\\\{H_{m_3},H_{0 - m_1 - m_3}\\\\}\\\\!\\\\!\\\\}\\\\}\\\\!\\\\!\\\\}}{24m_3m_1m_2(i\\\\omega)^3}\\\\\\\\ \\n\\$\"",
      "text/latex": "$-\\frac{\\{\\!\\!\\{\\{\\!\\!\\{\\{\\!\\!\\{H_{m_1},H_0\\}\\!\\!\\},H_0\\}\\!\\!\\},H_{0 - m_1}\\}\\!\\!\\}}{2m_1^3(i\\omega)^3}-\\frac{\\{\\!\\!\\{\\{\\!\\!\\{\\{\\!\\!\\{H_{m_2},H_0\\}\\!\\!\\},H_{m_1 - m_2}\\}\\!\\!\\},H_{0 - m_1}\\}\\!\\!\\}}{3m_1m_2^2(i\\omega)^3}\\\\ \n-\\frac{\\{\\!\\!\\{\\{\\!\\!\\{\\{\\!\\!\\{H_{m_2},H_{m_1 - m_2}\\}\\!\\!\\},H_0\\}\\!\\!\\},H_{0 - m_1}\\}\\!\\!\\}}{4m_1^2m_2(i\\omega)^3}-\\frac{\\{\\!\\!\\{\\{\\!\\!\\{\\{\\!\\!\\{H_{m_3},H_{m_2 - m_3}\\}\\!\\!\\},H_{m_1 - m_2}\\}\\!\\!\\},H_{0 - m_1}\\}\\!\\!\\}}{6m_3m_1m_2(i\\omega)^3}\\\\ \n-\\frac{\\{\\!\\!\\{\\{\\!\\!\\{H_{m_2},\\{\\!\\!\\{H_{m_3},H_{m_1 - m_2 - m_3}\\}\\!\\!\\}\\}\\!\\!\\},H_{0 - m_1}\\}\\!\\!\\}}{24m_3m_1m_2(i\\omega)^3}-\\frac{\\{\\!\\!\\{\\{\\!\\!\\{H_{m_1},\\{\\!\\!\\{H_{m_2},H_{0 - m_2}\\}\\!\\!\\}\\}\\!\\!\\},H_{0 - m_1}\\}\\!\\!\\}}{8m_1^2m_2(i\\omega)^3}\\\\ \n-\\frac{\\{\\!\\!\\{\\{\\!\\!\\{H_{m_1},H_0\\}\\!\\!\\},\\{\\!\\!\\{H_{m_2},H_{0 - m_1 - m_2}\\}\\!\\!\\}\\}\\!\\!\\}}{12m_1^2m_2(i\\omega)^3}-\\frac{\\{\\!\\!\\{\\{\\!\\!\\{H_{m_2},H_{m_1 - m_2}\\}\\!\\!\\},\\{\\!\\!\\{H_{m_3},H_{0 - m_1 - m_3}\\}\\!\\!\\}\\}\\!\\!\\}}{24m_3m_1m_2(i\\omega)^3}\\\\ \n$"
     },
     "metadata": {},
     "execution_count": 6
    }
   ],
   "cell_type": "code",
   "source": [
    "latex(K(3))"
   ],
   "metadata": {},
   "execution_count": 6
  },
  {
   "cell_type": "markdown",
   "source": [
    "## References"
   ],
   "metadata": {}
  },
  {
   "cell_type": "markdown",
   "source": [
    "1. **Eckardt, A. & Anisimovas, E.** (2015). High-frequency approximation for periodically driven quantum systems from a Floquet-space perspective. *New Journal of Physics* **17**, 093039. [arXiv:1502.06477](https://arxiv.org/abs/1502.06477)"
   ],
   "metadata": {}
  },
  {
   "cell_type": "markdown",
   "source": [
    "2. **Venkatraman, J., Xiao, X., Cortiñas, R. G., Eickbusch, A., & Devoret, M. H.** (2022). On the static effective Hamiltonian of a rapidly driven nonlinear system. *Physical Review Letters* **129**, 100601. [arXiv:2108.02861](https://arxiv.org/abs/2108.02861)"
   ],
   "metadata": {}
  },
  {
   "cell_type": "markdown",
   "source": [
    "3. **Van Vleck, J. H.** (1929). The correspondence principle in the statistical interpretation of quantum mechanics. *Proceedings of the National Academy of Sciences* **14**, 178-188."
   ],
   "metadata": {}
  },
  {
   "cell_type": "markdown",
   "source": [
    "---\n",
    "\n",
    "*This notebook was generated using [Literate.jl](https://github.com/fredrikekre/Literate.jl).*"
   ],
   "metadata": {}
  }
 ],
 "nbformat_minor": 3,
 "metadata": {
  "language_info": {
   "file_extension": ".jl",
   "mimetype": "application/julia",
   "name": "julia",
   "version": "1.10.9"
  },
  "kernelspec": {
   "name": "julia-1.10",
   "display_name": "Julia 1.10.9",
   "language": "julia"
  }
 },
 "nbformat": 4
}
