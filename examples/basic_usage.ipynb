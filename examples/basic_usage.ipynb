{
 "cells": [
  {
   "cell_type": "code",
   "execution_count": 1,
   "id": "4679e208",
   "metadata": {},
   "outputs": [
    {
     "data": {
      "text/plain": [
       "Terms(\n",
       "-1*[[1/1,0]/1,0]/1\n",
       "-1/2*[[1/1,0]/1,1]/1\n",
       "-1/2*[[1/1,1]/1,0]/1\n",
       "-1/4*[[1/1,1]/1,1]/1\n",
       "-1/12*[1/1,[1/1,1]]/1\n",
       "-1/3*[1/1,[1/1,1]0]/1\n",
       ")"
      ]
     },
     "metadata": {},
     "output_type": "display_data"
    }
   ],
   "source": [
    "using VanVleckRecursion\n",
    "using LaTeXStrings\n",
    "\n",
    "# Main execution\n",
    "set_H!(Terms([Term(0), Term(1)]))\n",
    "\n",
    "# Example usage\n",
    "k = S(3)"
   ]
  },
  {
   "cell_type": "code",
   "execution_count": 2,
   "id": "0d787d33",
   "metadata": {},
   "outputs": [
    {
     "data": {
      "text/plain": [
       "Terms(\n",
       "1*[1/1,0]/1\n",
       "1/2*[1/1,1]/1\n",
       ")"
      ]
     },
     "metadata": {},
     "output_type": "display_data"
    }
   ],
   "source": [
    "k = S(2)"
   ]
  },
  {
   "cell_type": "code",
   "execution_count": 3,
   "id": "829dce68",
   "metadata": {},
   "outputs": [
    {
     "data": {
      "text/latex": [
       "$+\\frac{\\{\\!\\!\\{H_{m_1},H_0\\}\\!\\!\\}}{m_1^2(i\\omega)^2}e^{im_1\\omega t}+\\frac{\\{\\!\\!\\{H_{m_1},H_{0}\\}\\!\\!\\}}{2m_1^2(i\\omega)^2}e^{im_1\\omega t}\\\\ \n",
       "$"
      ],
      "text/plain": [
       "L\"$+\\frac{\\{\\!\\!\\{H_{m_1},H_0\\}\\!\\!\\}}{m_1^2(i\\omega)^2}e^{im_1\\omega t}+\\frac{\\{\\!\\!\\{H_{m_1},H_{0}\\}\\!\\!\\}}{2m_1^2(i\\omega)^2}e^{im_1\\omega t}\\\\ \n",
       "$\""
      ]
     },
     "metadata": {},
     "output_type": "display_data"
    }
   ],
   "source": [
    "latexstring(latex(S(2)))"
   ]
  },
  {
   "cell_type": "code",
   "execution_count": 4,
   "id": "c9c0e142",
   "metadata": {},
   "outputs": [
    {
     "data": {
      "text/latex": [
       "$-\\frac{\\{\\!\\!\\{\\{\\!\\!\\{H_{m_1},H_0\\}\\!\\!\\},H_0\\}\\!\\!\\}}{m_1^3(i\\omega)^3}e^{im_1\\omega t}-\\frac{\\{\\!\\!\\{\\{\\!\\!\\{H_{m_1},H_0\\}\\!\\!\\},H_{0}\\}\\!\\!\\}}{2m_1^3(i\\omega)^3}e^{im_1\\omega t}\\\\ \n",
       "-\\frac{\\{\\!\\!\\{\\{\\!\\!\\{H_{m_1},H_{0}\\}\\!\\!\\},H_0\\}\\!\\!\\}}{2m_1^3(i\\omega)^3}e^{im_1\\omega t}-\\frac{\\{\\!\\!\\{\\{\\!\\!\\{H_{m_1},H_{0}\\}\\!\\!\\},H_{0}\\}\\!\\!\\}}{4m_1^3(i\\omega)^3}e^{im_1\\omega t}\\\\ \n",
       "-\\frac{\\{\\!\\!\\{H_{m_1},\\{\\!\\!\\{H_{m_1},H_{-m_1}\\}\\!\\!\\}\\}\\!\\!\\}}{12m_1^3(i\\omega)^3}e^{im_1\\omega t}-\\frac{\\{\\!\\!\\{H_{m_1},\\{\\!\\!\\{H_{m_1},H_{-m_1}\\}\\!\\!\\}\\}\\!\\!\\}}{3m_1^3(i\\omega)^3}e^{im_1\\omega t}\\\\ \n",
       "$"
      ],
      "text/plain": [
       "\"\\$-\\\\frac{\\\\{\\\\!\\\\!\\\\{\\\\{\\\\!\\\\!\\\\{H_{m_1},H_0\\\\}\\\\!\\\\!\\\\},H_0\\\\}\\\\!\\\\!\\\\}}{m_1^3(i\\\\omega)^3}e^{im_1\\\\omega t}-\\\\frac{\\\\{\\\\!\\\\!\\\\{\\\\{\\\\!\\\\!\\\\{H_{m_1},H_0\\\\}\\\\!\\\\!\\\\},H_{0}\\\\}\\\\!\\\\!\\\\}}{2m_1^3(i\\\\omega)^3}e^{im_1\\\\omega t}\\\\\\\\ \\n-\\\\frac{\\\\{\\\\!\\\\!\\\\{\\\\{\\\\!\\\\!\\\\{H_{m_1},H_{0}\\\\}\\\\!\\\\!\\\\},H_0\\\\}\\\\!\\\\!\\\\}}{2m_1^3(i\\\\omega)^3}e^{im_1\\\\o\"\u001b[93m\u001b[1m ⋯ 38 bytes ⋯ \u001b[22m\u001b[39m\"H_{0}\\\\}\\\\!\\\\!\\\\},H_{0}\\\\}\\\\!\\\\!\\\\}}{4m_1^3(i\\\\omega)^3}e^{im_1\\\\omega t}\\\\\\\\ \\n-\\\\frac{\\\\{\\\\!\\\\!\\\\{H_{m_1},\\\\{\\\\!\\\\!\\\\{H_{m_1},H_{-m_1}\\\\}\\\\!\\\\!\\\\}\\\\}\\\\!\\\\!\\\\}}{12m_1^3(i\\\\omega)^3}e^{im_1\\\\omega t}-\\\\frac{\\\\{\\\\!\\\\!\\\\{H_{m_1},\\\\{\\\\!\\\\!\\\\{H_{m_1},H_{-m_1}\\\\}\\\\!\\\\!\\\\}\\\\}\\\\!\\\\!\\\\}}{3m_1^3(i\\\\omega)^3}e^{im_1\\\\omega t}\\\\\\\\ \\n\\$\""
      ]
     },
     "metadata": {},
     "output_type": "display_data"
    }
   ],
   "source": [
    "latexstring(latex(S(3)))"
   ]
  },
  {
   "cell_type": "code",
   "execution_count": null,
   "id": "ea52bb11",
   "metadata": {},
   "outputs": [],
   "source": []
  }
 ],
 "metadata": {
  "kernelspec": {
   "display_name": "Julia 1.10.9",
   "language": "julia",
   "name": "julia-1.10"
  },
  "language_info": {
   "file_extension": ".jl",
   "mimetype": "application/julia",
   "name": "julia",
   "version": "1.10.9"
  }
 },
 "nbformat": 4,
 "nbformat_minor": 5
}
